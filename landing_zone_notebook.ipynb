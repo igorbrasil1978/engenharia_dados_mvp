{
 "cells": [
  {
   "cell_type": "markdown",
   "metadata": {
    "application/vnd.databricks.v1+cell": {
     "cellMetadata": {},
     "inputWidgets": {},
     "nuid": "dfe6f113-f420-4298-a281-6e7609d17552",
     "showTitle": false,
     "title": ""
    }
   },
   "source": [
    "Armazenamento dos arquivos CSV diretamente no FileStore/tables. Processso manual de carga de dados CSV"
   ]
  }
 ],
 "metadata": {
  "application/vnd.databricks.v1+notebook": {
   "dashboards": [],
   "environmentMetadata": null,
   "language": "python",
   "notebookMetadata": {
    "pythonIndentUnit": 4
   },
   "notebookName": "landing_zone_notebook",
   "widgets": {}
  }
 },
 "nbformat": 4,
 "nbformat_minor": 0
}
